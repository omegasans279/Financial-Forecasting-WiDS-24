{
  "nbformat": 4,
  "nbformat_minor": 0,
  "metadata": {
    "colab": {
      "provenance": []
    },
    "kernelspec": {
      "name": "python3",
      "display_name": "Python 3"
    },
    "language_info": {
      "name": "python"
    }
  },
  "cells": [
    {
      "cell_type": "code",
      "execution_count": null,
      "metadata": {
        "id": "Pq6HrVgoEmhw"
      },
      "outputs": [],
      "source": [
        "def f(x):\n",
        "  return x**31 - 1000\n",
        "\n",
        "import math\n",
        "\n",
        "def g(x):\n",
        "  return (math.sin(x)**5) * (math.cos(x)**3) - math.exp(x)\n",
        "\n",
        "def h(x):\n",
        "  return 1/(1+math.exp(-x-x**2-math.sin(x))) - 1/2"
      ]
    },
    {
      "cell_type": "code",
      "source": [
        "epsilon = 1e-3\n",
        "c1,c2,c3 = 0,0,0\n",
        "maximum_iterations = 1000\n",
        "a1 = 1\n",
        "b1 = 2\n",
        "\n",
        "while (abs(f((a1+b1)/2)) > epsilon and c1 < maximum_iterations):\n",
        "  if f(a1)*f((a1+b1)/2) < 0:\n",
        "    b1 = (a1+b1)/2\n",
        "  elif f((a1+b1)/2)*f(b1) < 0:\n",
        "    a1 = (a1+b1)/2\n",
        "  c1 = c1+1\n",
        "print(f\"It took {c1} iterations to find the root at {(a1+b1)/2}\")\n",
        "\n",
        "a2 = -5\n",
        "b2 = -4\n",
        "while (abs(g((a2+b2)/2)) > epsilon and c2 < maximum_iterations):\n",
        "  if g(a2)*g((a2+b2)/2) < 0:\n",
        "    b2 = (a2+b2)/2\n",
        "  elif g((a2+b2)/2)*g(b2) < 0:\n",
        "    a2 = (a2+b2)/2\n",
        "  c2 = c2+1\n",
        "print(f\"It took {c2} iterations to find the root at {(a2+b2)/2}\")\n",
        "\n",
        "a3 = -2\n",
        "b3 = -1\n",
        "while (abs(h((a3+b3)/2)) > epsilon and c3 < maximum_iterations):\n",
        "  if h(a3)*h((a3+b3)/2) < 0:\n",
        "    b3 = (a3+b3)/2\n",
        "  elif h((a3+b3)/2)*h(b3) < 0:\n",
        "    a3 = (a3+b3)/2\n",
        "  c3 = c3+1\n",
        "print(f\"It took {c3} iterations to find the root at {(a3+b3)/2}\")"
      ],
      "metadata": {
        "colab": {
          "base_uri": "https://localhost:8080/"
        },
        "id": "61RCLGCFOdOs",
        "outputId": "1e3f6a5d-e978-40df-8427-779a3276f126"
      },
      "execution_count": null,
      "outputs": [
        {
          "output_type": "stream",
          "name": "stdout",
          "text": [
            "It took 22 iterations to find the root at 1.249609112739563\n",
            "It took 4 iterations to find the root at -4.90625\n",
            "It took 6 iterations to find the root at -1.6171875\n"
          ]
        }
      ]
    },
    {
      "cell_type": "code",
      "source": [
        "def df(x):\n",
        "  return 31*x**30\n",
        "\n",
        "def dg(x):\n",
        "  return 5 * math.sin(x)**4 * math.cos(x)**4 - 3 * math.sin(x)**6 * math.cos(x)**2 - math.exp(x)\n",
        "\n",
        "def dh(x):\n",
        "  numerator = (1 + 2*x + math.cos(x)) * math.exp(-x - x**2 - math.sin(x))\n",
        "  denominator = (1 + math.exp(-x - x**2 - math.sin(x)))**2\n",
        "  return numerator / denominator\n",
        "\n",
        "c1,c2,c3 = 0,0,0\n",
        "a1 = 1\n",
        "while (abs(f(a1)) > epsilon and c1 < maximum_iterations):\n",
        "  a1 = a1 - f(a1)/df(a1)\n",
        "  c1 = c1+1\n",
        "print(f\"It took {c1} iterations to find the root at {a1}\")\n",
        "\n",
        "a2 = -5\n",
        "while (abs(g(a2)) > epsilon and c2 < maximum_iterations):\n",
        "  a2 = a2 - g(a2)/dg(a2)\n",
        "  c2 = c2+1\n",
        "print(f\"It took {c2} iterations to find the root at {a2}\")\n",
        "\n",
        "a3 = -2\n",
        "while (abs(h(a3)) > epsilon and c3 < maximum_iterations):\n",
        "  a3 = a3 - h(a3)/dh(a3)\n",
        "  c3 = c3+1\n",
        "print(f\"It took {c3} iterations to find the root at {a3}\")"
      ],
      "metadata": {
        "colab": {
          "base_uri": "https://localhost:8080/"
        },
        "id": "hG9ceJyb3QAu",
        "outputId": "ef5141e5-fad7-41b1-a442-9396ee9ded92"
      },
      "execution_count": null,
      "outputs": [
        {
          "output_type": "stream",
          "name": "stdout",
          "text": [
            "It took 105 iterations to find the root at 1.2496091412993475\n",
            "It took 2 iterations to find the root at -4.9155759057905515\n",
            "It took 2 iterations to find the root at -1.6175559209032508\n"
          ]
        }
      ]
    },
    {
      "cell_type": "code",
      "source": [
        "c1,c2,c3 = 0,0,0\n",
        "a1 = 1\n",
        "b1 = 2\n",
        "x = 0\n",
        "\n",
        "while(abs(a1-b1) > epsilon and c1 < maximum_iterations):\n",
        "  x = b1 - (f(b1) * (b1-a1) / (f(b1) - f(a1)))\n",
        "  a1 = b1\n",
        "  b1 = x\n",
        "  c1 = c1+1\n",
        "print(f\"It took {c1} iterations to find the root at {x}\")\n",
        "\n",
        "a2 = -5\n",
        "b2 = -4\n",
        "y = 0\n",
        "\n",
        "while(abs(a2-b2) > epsilon and c2 < maximum_iterations):\n",
        "  y = b2 - (g(b2) * (b2-a2) / (g(b2) - g(a2)))\n",
        "  a2 = b2\n",
        "  b2 = y\n",
        "  c2 = c2+1\n",
        "print(f\"It took {c2} iterations to find the root at {y}\")\n",
        "\n",
        "a3 = -2\n",
        "b3 = -1\n",
        "z = 0\n",
        "\n",
        "while(abs(a3-b3) > epsilon and c3 < maximum_iterations):\n",
        "  z = b3 - (h(b3) * (b3-a3) / (h(b3) - h(a3)))\n",
        "  a3 = b3\n",
        "  b3 = z\n",
        "  c3 = c3+1\n",
        "print(f\"It took {c3} iterations to find the root at {z}\")"
      ],
      "metadata": {
        "colab": {
          "base_uri": "https://localhost:8080/"
        },
        "id": "DLqF-eZQ6aWf",
        "outputId": "e73886f6-9c28-4084-9cb8-7d094bbea025"
      },
      "execution_count": null,
      "outputs": [
        {
          "output_type": "stream",
          "name": "stdout",
          "text": [
            "It took 2 iterations to find the root at 1.0000009303910293\n",
            "It took 3 iterations to find the root at -4.914952658712826\n",
            "It took 6 iterations to find the root at -1.6175452620285533\n"
          ]
        }
      ]
    },
    {
      "cell_type": "code",
      "source": [
        "c1,c2,c3 = 0,0,0\n",
        "a1 = 1\n",
        "b1 = 2\n",
        "x = 0\n",
        "\n",
        "while(abs(f(x)) > epsilon and c1 < maximum_iterations):\n",
        "  x = b1 - (f(b1) * (b1-a1) / (f(b1) - f(a1)))\n",
        "  if f(a1)*f(x) < 0:\n",
        "    b1 = x\n",
        "  elif f(x)*f(b1) < 0:\n",
        "    a1 = x\n",
        "  c1 = c1+1\n",
        "print(f\"It took {c1} iterations to find the root at {x}\")\n",
        "\n",
        "a2 = -5\n",
        "b2 = -4\n",
        "y = 0\n",
        "\n",
        "while(abs(g(y)) > epsilon and c2 < maximum_iterations):\n",
        "  y = b2 - (g(b2) * (b2-a2) / (g(b2) - g(a2)))\n",
        "  if g(a2)*g(y) < 0:\n",
        "    b2 = y\n",
        "  elif g(y)*g(b2) < 0:\n",
        "    a2 = y\n",
        "  c2 = c2+1\n",
        "print(f\"It took {c2} iterations to find the root at {y}\")\n",
        "\n",
        "a3 = -2\n",
        "b3 = -1\n",
        "z = -3\n",
        "\n",
        "while(abs(h(z)) > epsilon and c3 < maximum_iterations):\n",
        "  z = b3 - (h(b3) * (b3-a3) / (h(b3) - h(a3)))\n",
        "  if h(a3)*h(z) < 0:\n",
        "    b3 = z\n",
        "  elif h(z)*h(b3) < 0:\n",
        "    a3 = z\n",
        "  c3 = c3+1\n",
        "print(f\"It took {c3} iterations to find the root at {z}\")"
      ],
      "metadata": {
        "colab": {
          "base_uri": "https://localhost:8080/"
        },
        "id": "fR2DoRnvc3gl",
        "outputId": "6aabc48a-21ec-4ee4-b89f-914cffce6a9c"
      },
      "execution_count": null,
      "outputs": [
        {
          "output_type": "stream",
          "name": "stdout",
          "text": [
            "It took 1000 iterations to find the root at 1.0004650841798366\n",
            "It took 2 iterations to find the root at -4.906545506719855\n",
            "It took 4 iterations to find the root at -1.6170698803663257\n"
          ]
        }
      ]
    },
    {
      "cell_type": "markdown",
      "source": [
        "The **Secant** and **False Position** methods are the worst so far, since they fail to accurately estimate the roots of $f(x) = x^{31} - 1000$. The **Bisection** method is better than them since it gave a good enough estimate in lesser iterations. The **Newton-Rhapson** method is the best since it calculated the roots in even lesser iterations."
      ],
      "metadata": {
        "id": "bCZduLZeRe-a"
      }
    }
  ]
}