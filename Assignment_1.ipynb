{
  "nbformat": 4,
  "nbformat_minor": 0,
  "metadata": {
    "colab": {
      "provenance": []
    },
    "kernelspec": {
      "name": "python3",
      "display_name": "Python 3"
    },
    "language_info": {
      "name": "python"
    }
  },
  "cells": [
    {
      "cell_type": "code",
      "execution_count": null,
      "metadata": {
        "colab": {
          "base_uri": "https://localhost:8080/"
        },
        "id": "Q7oUU901clYa",
        "outputId": "ab5a0df8-e2bb-4e3a-e1ae-a7bcbc0e16f8"
      },
      "outputs": [
        {
          "output_type": "stream",
          "name": "stderr",
          "text": [
            "[*********************100%***********************]  1 of 1 completed\n",
            "[*********************100%***********************]  1 of 1 completed\n"
          ]
        }
      ],
      "source": [
        "import yfinance as yf\n",
        "\n",
        "stock = 'TATAMOTORS.NS'\n",
        "index = \"^NSEI\"\n",
        "\n",
        "Tata = yf.download(stock, start='2023-04-01', end='2024-04-01')\n",
        "NSE = yf.download(index, start='2023-04-01', end='2024-04-01')"
      ]
    },
    {
      "cell_type": "code",
      "source": [
        "tata_adj_close = Tata[('Adj Close', 'TATAMOTORS.NS')]\n",
        "nse_adj_close = NSE[('Adj Close', '^NSEI')]\n",
        "\n",
        "import pandas as pd\n",
        "\n",
        "combined_data = pd.DataFrame({\n",
        "    'Tata_Adj_Close': tata_adj_close,\n",
        "    'NSE_Adj_Close': nse_adj_close\n",
        "}).dropna()\n",
        "\n",
        "covariance = combined_data['Tata_Adj_Close'].cov(combined_data['NSE_Adj_Close'])\n",
        "variance_NSE = nse_adj_close.var()\n",
        "\n",
        "beta = covariance/variance_NSE\n",
        "print(f\"Beta = {beta}\")"
      ],
      "metadata": {
        "colab": {
          "base_uri": "https://localhost:8080/"
        },
        "id": "58QHfF13riMJ",
        "outputId": "c052d45e-8cf8-4d78-c3b6-99a01303652f"
      },
      "execution_count": null,
      "outputs": [
        {
          "output_type": "stream",
          "name": "stdout",
          "text": [
            "Beta = 0.10319801601608683\n"
          ]
        }
      ]
    },
    {
      "cell_type": "code",
      "source": [
        "Tata_returns = tata_adj_close.pct_change().dropna()\n",
        "NSE_returns = nse_adj_close.pct_change().dropna()\n",
        "\n",
        "mean_Tata_returns = Tata_returns.mean()\n",
        "mean_NSE_returns = NSE_returns.mean()\n",
        "\n",
        "print(f\"Alpha = {mean_Tata_returns - beta*mean_NSE_returns}\")"
      ],
      "metadata": {
        "colab": {
          "base_uri": "https://localhost:8080/"
        },
        "id": "NwgM6Q3DUB0o",
        "outputId": "cf987646-6490-4e56-b36f-4f720b97e1b0"
      },
      "execution_count": null,
      "outputs": [
        {
          "output_type": "stream",
          "name": "stdout",
          "text": [
            "Alpha = 0.003535223364383089\n"
          ]
        }
      ]
    },
    {
      "cell_type": "code",
      "source": [
        "import math\n",
        "\n",
        "rf = 0.07015\n",
        "print(f\"Annualised Sharpe Ratio for Tata = {(mean_Tata_returns - rf)*math.sqrt(252)/math.sqrt(tata_adj_close.var())}\")\n",
        "print(f\"Annualised Sharpe Ratio for NSE = {(mean_NSE_returns - rf)*math.sqrt(252)/math.sqrt(variance_NSE)}\")"
      ],
      "metadata": {
        "colab": {
          "base_uri": "https://localhost:8080/"
        },
        "id": "fuRYvrj33fqS",
        "outputId": "bbc37c6c-859e-4721-9326-73009f20ae74"
      },
      "execution_count": null,
      "outputs": [
        {
          "output_type": "stream",
          "name": "stdout",
          "text": [
            "Annualised Sharpe Ratio for Tata = -0.007059498176638642\n",
            "Annualised Sharpe Ratio for NSE = -0.0007905942664409791\n"
          ]
        }
      ]
    },
    {
      "cell_type": "code",
      "source": [
        "LTP_list_Tata = tata_adj_close.tolist()\n",
        "LTP_list_NSE = nse_adj_close.tolist()\n",
        "\n",
        "max_LTP_Tata = 0\n",
        "MDD_Tata = 0\n",
        "for LTP in LTP_list_Tata:\n",
        "  if LTP > max_LTP_Tata:\n",
        "    max_LTP_Tata = LTP\n",
        "  drawdown = (max_LTP_Tata - LTP)/max_LTP_Tata\n",
        "  if drawdown > MDD_Tata:\n",
        "    MDD_Tata = drawdown\n",
        "\n",
        "max_LTP_NSE = 0\n",
        "MDD_NSE = 0\n",
        "for LTP in LTP_list_NSE:\n",
        "  if LTP > max_LTP_NSE:\n",
        "    max_LTP_NSE = LTP\n",
        "  drawdown = (max_LTP_NSE - LTP)/max_LTP_NSE\n",
        "  if drawdown > MDD_NSE:\n",
        "    MDD_NSE = drawdown\n",
        "\n",
        "print(f\"Maximum Drawdown for NSE = {MDD_NSE*100:.2f}%\")\n",
        "print(f\"Maximum Drawdown for Tata = {MDD_Tata*100:.2f}%\")"
      ],
      "metadata": {
        "colab": {
          "base_uri": "https://localhost:8080/"
        },
        "id": "6Rn1vB6b7BXR",
        "outputId": "4f958107-eb40-4e81-c32b-c94a30861e93"
      },
      "execution_count": null,
      "outputs": [
        {
          "output_type": "stream",
          "name": "stdout",
          "text": [
            "Maximum Drawdown for NSE = 6.61%\n",
            "Maximum Drawdown for Tata = 9.51%\n"
          ]
        }
      ]
    }
  ]
}