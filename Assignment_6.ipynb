{
  "nbformat": 4,
  "nbformat_minor": 0,
  "metadata": {
    "colab": {
      "provenance": []
    },
    "kernelspec": {
      "name": "python3",
      "display_name": "Python 3"
    },
    "language_info": {
      "name": "python"
    }
  },
  "cells": [
    {
      "cell_type": "code",
      "execution_count": null,
      "metadata": {
        "id": "TXcfM7t7g9PI"
      },
      "outputs": [],
      "source": [
        "import pandas as pd\n",
        "\n",
        "df = pd.read_csv(\"assign6.csv\")\n",
        "LTP_list = df[\"price\"]\n",
        "alpha_list = df[\"alpha\"]"
      ]
    },
    {
      "cell_type": "code",
      "source": [
        "def simulate(L, B):\n",
        "  state = \"neutral\"\n",
        "  PnL = 0\n",
        "  for i in range(len(LTP_list)):\n",
        "    if state == \"neutral\":\n",
        "      if alpha_list[i] > B:\n",
        "        state = \"long\"\n",
        "        LTP = LTP_list[i]\n",
        "      elif alpha_list[i] < -B:\n",
        "        state = \"short\"\n",
        "        LTP = LTP_list[i]\n",
        "\n",
        "    elif state == \"long\":\n",
        "      if alpha_list[i] < L:\n",
        "        PnL += LTP_list[i] - LTP\n",
        "        state = \"neutral\"\n",
        "\n",
        "    elif state == \"short\":\n",
        "      if alpha_list[i] > -L:\n",
        "        PnL += LTP - LTP_list[i]\n",
        "        state = \"neutral\"\n",
        "\n",
        "  return PnL\n",
        "\n",
        "simulate(0.02,0.67)"
      ],
      "metadata": {
        "colab": {
          "base_uri": "https://localhost:8080/"
        },
        "id": "Hx3SLewLhgqW",
        "outputId": "080fde63-aeb4-4422-d065-c2eb766db723"
      },
      "execution_count": null,
      "outputs": [
        {
          "output_type": "execute_result",
          "data": {
            "text/plain": [
              "20457.71964890253"
            ]
          },
          "metadata": {},
          "execution_count": 33
        }
      ]
    },
    {
      "cell_type": "code",
      "source": [
        "max_PnL = -99999999\n",
        "\n",
        "import numpy as np\n",
        "\n",
        "L_values = np.arange(0.01, max(abs(alpha_list)), 0.01)\n",
        "B_values = np.arange(0.01, max(abs(alpha_list)), 0.01)\n",
        "\n",
        "for L in L_values:\n",
        "    for B in B_values:\n",
        "        if L >= B:\n",
        "            continue\n",
        "        PnL = simulate(L, B)\n",
        "        if PnL > max_PnL:\n",
        "            max_PnL = PnL\n",
        "            optimal_L, optimal_B = L, B\n",
        "\n",
        "print(\"Optimal L:\", optimal_L)\n",
        "print(\"Optimal B:\", optimal_B)\n",
        "print(\"Maximum PnL:\", max_PnL)"
      ],
      "metadata": {
        "colab": {
          "base_uri": "https://localhost:8080/"
        },
        "id": "HATW_DUkqZ8d",
        "outputId": "251f91fd-2712-4750-dcdf-57f91aff455e"
      },
      "execution_count": null,
      "outputs": [
        {
          "output_type": "stream",
          "name": "stdout",
          "text": [
            "Optimal L: 0.02\n",
            "Optimal B: 0.17\n",
            "Maximum PnL: 34282.88035370515\n"
          ]
        }
      ]
    }
  ]
}