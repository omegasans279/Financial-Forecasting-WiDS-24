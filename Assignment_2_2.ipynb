{
  "nbformat": 4,
  "nbformat_minor": 0,
  "metadata": {
    "colab": {
      "provenance": []
    },
    "kernelspec": {
      "name": "python3",
      "display_name": "Python 3"
    },
    "language_info": {
      "name": "python"
    }
  },
  "cells": [
    {
      "cell_type": "code",
      "execution_count": 7,
      "metadata": {
        "colab": {
          "base_uri": "https://localhost:8080/"
        },
        "id": "kjnKNyFrWzoy",
        "outputId": "1a4c3d21-a9d7-48eb-fe78-3a05398a90ac"
      },
      "outputs": [
        {
          "output_type": "stream",
          "name": "stdout",
          "text": [
            "Estimated YTM = 0.115341 %\n"
          ]
        }
      ],
      "source": [
        "from datetime import datetime\n",
        "import numpy as np\n",
        "\n",
        "def calculate_time_in_years(start_date, end_date):\n",
        "    date_format = \"%d-%m-%Y\"\n",
        "    d1 = datetime.strptime(start_date, date_format)\n",
        "    d2 = datetime.strptime(end_date, date_format)\n",
        "    return abs((d2 - d1).days) / 365.0\n",
        "\n",
        "def bond_price(r, rC, m, PT, T, t, past_coupon, next_coupon):\n",
        "    time_to_maturity = calculate_time_in_years(t, T)\n",
        "    time_to_next_coupon = calculate_time_in_years(t, next_coupon)\n",
        "    C = rC * PT / m\n",
        "    n = int(time_to_maturity * m)\n",
        "    price = 0.0\n",
        "\n",
        "    for i in range(n):\n",
        "        t_i = time_to_next_coupon + i / m\n",
        "        price += C / np.exp(r * t_i)\n",
        "    price += PT / np.exp(r * time_to_maturity)\n",
        "    return price\n",
        "\n",
        "def bond_price_derivative(r, rC, m, PT, T, t, past_coupon, next_coupon):\n",
        "    time_to_maturity = calculate_time_in_years(t, T)\n",
        "    time_to_next_coupon = calculate_time_in_years(t, next_coupon)\n",
        "    C = rC * PT / m\n",
        "    n = int(time_to_maturity * m)\n",
        "    derivative = 0.0\n",
        "\n",
        "    for i in range(n):\n",
        "        t_i = time_to_next_coupon + i / m\n",
        "        derivative -= t_i * C / np.exp(r * t_i)\n",
        "    derivative -= time_to_maturity * PT / np.exp(r * time_to_maturity)\n",
        "    return derivative\n",
        "\n",
        "def Newton_Rhapson(PD, rC, m, PT, T, t, past_coupon, next_coupon):\n",
        "    r_guess = 0.05\n",
        "    for _ in range(10):\n",
        "        price = bond_price(r_guess, rC, m, PT, T, t, past_coupon, next_coupon)\n",
        "        derivative = bond_price_derivative(r_guess, rC, m, PT, T, t, past_coupon, next_coupon)\n",
        "        r_guess -= (price - PD) / derivative\n",
        "    return r_guess\n",
        "\n",
        "PD = 1098\n",
        "rC = 0.1\n",
        "m = 1\n",
        "PT = 1000\n",
        "T = \"31-12-2023\"\n",
        "t = \"01-05-2022\"\n",
        "past_coupon = \"01-01-2022\"\n",
        "next_coupon = \"01-01-2023\"\n",
        "\n",
        "ytm = Newton_Rhapson(PD, rC, m, PT, T, t, past_coupon, next_coupon)\n",
        "print(f\"Estimated YTM = {100*ytm:.6f} %\")"
      ]
    }
  ]
}