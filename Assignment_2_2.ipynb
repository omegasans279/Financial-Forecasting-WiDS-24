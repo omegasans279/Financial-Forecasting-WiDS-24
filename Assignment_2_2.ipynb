{
  "nbformat": 4,
  "nbformat_minor": 0,
  "metadata": {
    "colab": {
      "provenance": []
    },
    "kernelspec": {
      "name": "python3",
      "display_name": "Python 3"
    },
    "language_info": {
      "name": "python"
    }
  },
  "cells": [
    {
      "cell_type": "code",
      "execution_count": 11,
      "metadata": {
        "colab": {
          "base_uri": "https://localhost:8080/"
        },
        "id": "kjnKNyFrWzoy",
        "outputId": "8092a786-3978-4d2a-cafe-4c365a7cb6dc"
      },
      "outputs": [
        {
          "output_type": "stream",
          "name": "stdout",
          "text": [
            "Yield to Maturity: 0.001041\n"
          ]
        }
      ],
      "source": [
        "import numpy as np\n",
        "from datetime import datetime\n",
        "\n",
        "def bond_price(r, PT, rC, m, T_date, next_coupon, current_date):\n",
        "    C = rC * PT / m\n",
        "    time_to_maturity = (T_date - current_date).days / 365\n",
        "    n = int(time_to_maturity * m)\n",
        "\n",
        "    if (T_date - next_coupon).days % (365 / m) == 0:\n",
        "        price = sum([C / (1 + r / m)**t for t in range(1, n + 1)]) + PT / (1 + r / m)**n\n",
        "    else:\n",
        "        price = sum([C / (1 + r / m)**t for t in range(1, n)]) + PT / (1 + r / m)**(n + 1)\n",
        "\n",
        "    return price\n",
        "\n",
        "def bond_price_derivative(r, PT, rC, m, T_date, next_coupon, current_date):\n",
        "    C = rC * PT / m\n",
        "    time_to_maturity = (T_date - current_date).days / 365\n",
        "    n = int(time_to_maturity * m)\n",
        "\n",
        "    if (T_date - next_coupon).days % (365 / m) == 0:\n",
        "        derivative = sum([-t * C / (1 + r / m)**(t + 1) for t in range(1, n + 1)]) - n * PT / (1 + r / m)**(n + 1)\n",
        "    else:\n",
        "        derivative = sum([-t * C / (1 + r / m)**(t + 1) for t in range(1, n)]) - (n + 1) * PT / (1 + r / m)**(n + 2)\n",
        "\n",
        "    return derivative\n",
        "\n",
        "def newton_raphson(PD, PT, rC, m, T_date, next_coupon, current_date, r_guess, max_iterations=10):\n",
        "    for i in range(max_iterations):\n",
        "        P_r = bond_price(r_guess, PT, rC, m, T_date, next_coupon, current_date)\n",
        "        f_prime_r = bond_price_derivative(r_guess, PT, rC, m, T_date, next_coupon, current_date)\n",
        "        r_new = r_guess - (P_r - PD) / f_prime_r\n",
        "        r_guess = r_new\n",
        "    return r_guess\n",
        "\n",
        "PT = 1000\n",
        "rC = 0.10\n",
        "PD = 1098\n",
        "m = 2\n",
        "T_date = datetime(2023, 12, 31)\n",
        "next_coupon = datetime(2022, 7, 1)\n",
        "current_date = datetime(2022, 5, 1)\n",
        "\n",
        "r_guess = rC\n",
        "\n",
        "ytm = newton_raphson(PD, PT, rC, m, T_date, next_coupon, current_date, r_guess)\n",
        "\n",
        "print(f\"Yield to Maturity: {ytm:.6f}\")\n"
      ]
    }
  ]
}